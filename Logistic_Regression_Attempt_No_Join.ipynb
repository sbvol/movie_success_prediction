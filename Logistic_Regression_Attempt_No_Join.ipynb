{
 "cells": [
  {
   "cell_type": "code",
   "execution_count": 1,
   "metadata": {
    "collapsed": true
   },
   "outputs": [],
   "source": [
    "#Dependencies\n",
    "%matplotlib inline\n",
    "import matplotlib.pyplot as plt\n",
    "import numpy as np\n",
    "import pandas as pd \n",
    "from sklearn.preprocessing import StandardScaler\n",
    "from sklearn.model_selection import train_test_split\n",
    "from sklearn.linear_model import LinearRegression\n",
    "from sklearn.metrics import mean_squared_error"
   ]
  },
  {
   "cell_type": "code",
   "execution_count": 2,
   "metadata": {},
   "outputs": [
    {
     "data": {
      "text/html": [
       "<div>\n",
       "<style>\n",
       "    .dataframe thead tr:only-child th {\n",
       "        text-align: right;\n",
       "    }\n",
       "\n",
       "    .dataframe thead th {\n",
       "        text-align: left;\n",
       "    }\n",
       "\n",
       "    .dataframe tbody tr th {\n",
       "        vertical-align: top;\n",
       "    }\n",
       "</style>\n",
       "<table border=\"1\" class=\"dataframe\">\n",
       "  <thead>\n",
       "    <tr style=\"text-align: right;\">\n",
       "      <th></th>\n",
       "      <th>id</th>\n",
       "      <th>production_year</th>\n",
       "      <th>production_budget</th>\n",
       "      <th>domestic_box_office</th>\n",
       "      <th>international_box_office</th>\n",
       "      <th>Success_Failure_All</th>\n",
       "      <th>Success_Failure_Domestic</th>\n",
       "      <th>rating</th>\n",
       "      <th>creative_type</th>\n",
       "      <th>source</th>\n",
       "      <th>production_method</th>\n",
       "      <th>genre</th>\n",
       "      <th>sequel</th>\n",
       "      <th>running_time</th>\n",
       "    </tr>\n",
       "  </thead>\n",
       "  <tbody>\n",
       "    <tr>\n",
       "      <th>0</th>\n",
       "      <td>0</td>\n",
       "      <td>2006</td>\n",
       "      <td>45000000</td>\n",
       "      <td>36895141</td>\n",
       "      <td>28700000</td>\n",
       "      <td>0</td>\n",
       "      <td>0</td>\n",
       "      <td>PG-13</td>\n",
       "      <td>Contemporary Fiction</td>\n",
       "      <td>Original Screenplay</td>\n",
       "      <td>Live Action</td>\n",
       "      <td>Action</td>\n",
       "      <td>0</td>\n",
       "      <td>105</td>\n",
       "    </tr>\n",
       "    <tr>\n",
       "      <th>1</th>\n",
       "      <td>1</td>\n",
       "      <td>2006</td>\n",
       "      <td>35000000</td>\n",
       "      <td>7459300</td>\n",
       "      <td>34604805</td>\n",
       "      <td>0</td>\n",
       "      <td>0</td>\n",
       "      <td>PG-13</td>\n",
       "      <td>Contemporary Fiction</td>\n",
       "      <td>Based on Fiction Book/Short Story</td>\n",
       "      <td>Live Action</td>\n",
       "      <td>Drama</td>\n",
       "      <td>0</td>\n",
       "      <td>118</td>\n",
       "    </tr>\n",
       "    <tr>\n",
       "      <th>2</th>\n",
       "      <td>2</td>\n",
       "      <td>2006</td>\n",
       "      <td>10000000</td>\n",
       "      <td>20342852</td>\n",
       "      <td>6373339</td>\n",
       "      <td>1</td>\n",
       "      <td>1</td>\n",
       "      <td>PG-13</td>\n",
       "      <td>Contemporary Fiction</td>\n",
       "      <td>Original Screenplay</td>\n",
       "      <td>Live Action</td>\n",
       "      <td>Comedy</td>\n",
       "      <td>0</td>\n",
       "      <td>105</td>\n",
       "    </tr>\n",
       "  </tbody>\n",
       "</table>\n",
       "</div>"
      ],
      "text/plain": [
       "   id  production_year  production_budget  domestic_box_office  \\\n",
       "0   0             2006           45000000             36895141   \n",
       "1   1             2006           35000000              7459300   \n",
       "2   2             2006           10000000             20342852   \n",
       "\n",
       "   international_box_office  Success_Failure_All  Success_Failure_Domestic  \\\n",
       "0                  28700000                    0                         0   \n",
       "1                  34604805                    0                         0   \n",
       "2                   6373339                    1                         1   \n",
       "\n",
       "  rating         creative_type                             source  \\\n",
       "0  PG-13  Contemporary Fiction                Original Screenplay   \n",
       "1  PG-13  Contemporary Fiction  Based on Fiction Book/Short Story   \n",
       "2  PG-13  Contemporary Fiction                Original Screenplay   \n",
       "\n",
       "  production_method   genre  sequel  running_time  \n",
       "0       Live Action  Action       0           105  \n",
       "1       Live Action   Drama       0           118  \n",
       "2       Live Action  Comedy       0           105  "
      ]
     },
     "execution_count": 2,
     "metadata": {},
     "output_type": "execute_result"
    }
   ],
   "source": [
    "#assigming index id to movie_name and rearranging df so that it's the first column\n",
    "movie = pd.read_csv('Final_Data_Template_Copy.csv',encoding='latin-1')\n",
    "movie['id'] = movie.index\n",
    "movie = movie[['id'] + movie.columns[:-1].tolist()]\n",
    "movie_final = movie.drop(['movie_name'], axis=1)\n",
    "movie_final.head(3)"
   ]
  },
  {
   "cell_type": "code",
   "execution_count": 3,
   "metadata": {},
   "outputs": [
    {
     "data": {
      "text/html": [
       "<div>\n",
       "<style>\n",
       "    .dataframe thead tr:only-child th {\n",
       "        text-align: right;\n",
       "    }\n",
       "\n",
       "    .dataframe thead th {\n",
       "        text-align: left;\n",
       "    }\n",
       "\n",
       "    .dataframe tbody tr th {\n",
       "        vertical-align: top;\n",
       "    }\n",
       "</style>\n",
       "<table border=\"1\" class=\"dataframe\">\n",
       "  <thead>\n",
       "    <tr style=\"text-align: right;\">\n",
       "      <th></th>\n",
       "      <th>id</th>\n",
       "      <th>production_year</th>\n",
       "      <th>production_budget</th>\n",
       "      <th>domestic_box_office</th>\n",
       "      <th>international_box_office</th>\n",
       "      <th>Success_Failure_All</th>\n",
       "      <th>Success_Failure_Domestic</th>\n",
       "      <th>sequel</th>\n",
       "      <th>running_time</th>\n",
       "      <th>rating_0</th>\n",
       "      <th>...</th>\n",
       "      <th>genre_Black Comedy</th>\n",
       "      <th>genre_Comedy</th>\n",
       "      <th>genre_Concert/Performance</th>\n",
       "      <th>genre_Documentary</th>\n",
       "      <th>genre_Drama</th>\n",
       "      <th>genre_Horror</th>\n",
       "      <th>genre_Musical</th>\n",
       "      <th>genre_Romantic Comedy</th>\n",
       "      <th>genre_Thriller/Suspense</th>\n",
       "      <th>genre_Western</th>\n",
       "    </tr>\n",
       "  </thead>\n",
       "  <tbody>\n",
       "    <tr>\n",
       "      <th>0</th>\n",
       "      <td>0</td>\n",
       "      <td>2006</td>\n",
       "      <td>45000000</td>\n",
       "      <td>36895141</td>\n",
       "      <td>28700000</td>\n",
       "      <td>0</td>\n",
       "      <td>0</td>\n",
       "      <td>0</td>\n",
       "      <td>105</td>\n",
       "      <td>0</td>\n",
       "      <td>...</td>\n",
       "      <td>0</td>\n",
       "      <td>0</td>\n",
       "      <td>0</td>\n",
       "      <td>0</td>\n",
       "      <td>0</td>\n",
       "      <td>0</td>\n",
       "      <td>0</td>\n",
       "      <td>0</td>\n",
       "      <td>0</td>\n",
       "      <td>0</td>\n",
       "    </tr>\n",
       "    <tr>\n",
       "      <th>1</th>\n",
       "      <td>1</td>\n",
       "      <td>2006</td>\n",
       "      <td>35000000</td>\n",
       "      <td>7459300</td>\n",
       "      <td>34604805</td>\n",
       "      <td>0</td>\n",
       "      <td>0</td>\n",
       "      <td>0</td>\n",
       "      <td>118</td>\n",
       "      <td>0</td>\n",
       "      <td>...</td>\n",
       "      <td>0</td>\n",
       "      <td>0</td>\n",
       "      <td>0</td>\n",
       "      <td>0</td>\n",
       "      <td>1</td>\n",
       "      <td>0</td>\n",
       "      <td>0</td>\n",
       "      <td>0</td>\n",
       "      <td>0</td>\n",
       "      <td>0</td>\n",
       "    </tr>\n",
       "    <tr>\n",
       "      <th>2</th>\n",
       "      <td>2</td>\n",
       "      <td>2006</td>\n",
       "      <td>10000000</td>\n",
       "      <td>20342852</td>\n",
       "      <td>6373339</td>\n",
       "      <td>1</td>\n",
       "      <td>1</td>\n",
       "      <td>0</td>\n",
       "      <td>105</td>\n",
       "      <td>0</td>\n",
       "      <td>...</td>\n",
       "      <td>0</td>\n",
       "      <td>1</td>\n",
       "      <td>0</td>\n",
       "      <td>0</td>\n",
       "      <td>0</td>\n",
       "      <td>0</td>\n",
       "      <td>0</td>\n",
       "      <td>0</td>\n",
       "      <td>0</td>\n",
       "      <td>0</td>\n",
       "    </tr>\n",
       "  </tbody>\n",
       "</table>\n",
       "<p>3 rows × 66 columns</p>\n",
       "</div>"
      ],
      "text/plain": [
       "   id  production_year  production_budget  domestic_box_office  \\\n",
       "0   0             2006           45000000             36895141   \n",
       "1   1             2006           35000000              7459300   \n",
       "2   2             2006           10000000             20342852   \n",
       "\n",
       "   international_box_office  Success_Failure_All  Success_Failure_Domestic  \\\n",
       "0                  28700000                    0                         0   \n",
       "1                  34604805                    0                         0   \n",
       "2                   6373339                    1                         1   \n",
       "\n",
       "   sequel  running_time  rating_0      ...        genre_Black Comedy  \\\n",
       "0       0           105         0      ...                         0   \n",
       "1       0           118         0      ...                         0   \n",
       "2       0           105         0      ...                         0   \n",
       "\n",
       "   genre_Comedy  genre_Concert/Performance  genre_Documentary  genre_Drama  \\\n",
       "0             0                          0                  0            0   \n",
       "1             0                          0                  0            1   \n",
       "2             1                          0                  0            0   \n",
       "\n",
       "   genre_Horror  genre_Musical  genre_Romantic Comedy  \\\n",
       "0             0              0                      0   \n",
       "1             0              0                      0   \n",
       "2             0              0                      0   \n",
       "\n",
       "   genre_Thriller/Suspense  genre_Western  \n",
       "0                        0              0  \n",
       "1                        0              0  \n",
       "2                        0              0  \n",
       "\n",
       "[3 rows x 66 columns]"
      ]
     },
     "execution_count": 3,
     "metadata": {},
     "output_type": "execute_result"
    }
   ],
   "source": [
    "#Got dummies - 14169 columns...\n",
    "movie_final = pd.get_dummies(movie_final)\n",
    "movie_final.head(3)"
   ]
  },
  {
   "cell_type": "code",
   "execution_count": 4,
   "metadata": {
    "collapsed": true
   },
   "outputs": [],
   "source": [
    "# #created dataframe with correlations for all columns \n",
    "# name = []\n",
    "# correlation = []\n",
    "# for movie in movie_final:\n",
    "#     name.append(movie)\n",
    "#     correlation.append(movie_final['Success_Failure_Domestic'].corr(movie_final[movie]))\n",
    "# correlation_df = pd.DataFrame({'name': name, 'correlation': correlation})[['name','correlation']]\n",
    "# positive_df = correlation_df.sort_values(by=['correlation'], ascending=False)\n",
    "# positive_df.head(50)"
   ]
  },
  {
   "cell_type": "code",
   "execution_count": 11,
   "metadata": {
    "collapsed": true
   },
   "outputs": [],
   "source": [
    "# #making a list based off the top correlated columns to feed into regression\n",
    "# top = positive_df['name'].values.tolist()[:50]\n",
    "# top.remove('domestic_box_office')\n",
    "# top.remove('international_box_office')\n",
    "# top.remove('350k_Movies.revenue')\n",
    "# top.remove('Success_Failure_Domestic')\n",
    "# top.remove('Success_Failure_All')\n",
    "# # top.remove('id')\n",
    "\n",
    "# top[:50]"
   ]
  },
  {
   "cell_type": "code",
   "execution_count": 13,
   "metadata": {},
   "outputs": [
    {
     "data": {
      "text/plain": [
       "['production_year',\n",
       " 'production_budget',\n",
       " 'sequel',\n",
       " 'running_time',\n",
       " 'rating_0',\n",
       " 'rating_G',\n",
       " 'rating_Not Rated',\n",
       " 'rating_PG',\n",
       " 'rating_PG-13',\n",
       " 'rating_R',\n",
       " 'creative_type_0',\n",
       " 'creative_type_Contemporary Fiction',\n",
       " 'creative_type_Dramatization',\n",
       " 'creative_type_Factual',\n",
       " 'creative_type_Fantasy',\n",
       " 'creative_type_Historical Fiction',\n",
       " 'creative_type_Kids Fiction',\n",
       " 'creative_type_Multiple Creative Types',\n",
       " 'creative_type_Science Fiction',\n",
       " 'creative_type_Super Hero',\n",
       " 'source_0',\n",
       " 'source_Based on Comic/Graphic Novel',\n",
       " 'source_Based on Factual Book/Article',\n",
       " 'source_Based on Fiction Book/Short Story',\n",
       " 'source_Based on Folk Tale/Legend/Fairytale',\n",
       " 'source_Based on Game',\n",
       " 'source_Based on Movie',\n",
       " 'source_Based on Musical or Opera',\n",
       " 'source_Based on Play',\n",
       " 'source_Based on Real Life Events',\n",
       " 'source_Based on Religious Text',\n",
       " 'source_Based on Short Film',\n",
       " 'source_Based on TV',\n",
       " 'source_Based on Theme Park Ride',\n",
       " 'source_Based on Toy',\n",
       " 'source_Based on Web Series',\n",
       " 'source_Compilation',\n",
       " 'source_Original Screenplay',\n",
       " 'source_Remake',\n",
       " 'source_Spin-Off',\n",
       " 'production_method_0',\n",
       " 'production_method_Animation/Live Action',\n",
       " 'production_method_Digital Animation',\n",
       " 'production_method_Hand Animation',\n",
       " 'production_method_Live Action',\n",
       " 'production_method_Multiple Production Methods',\n",
       " 'production_method_Rotoscoping',\n",
       " 'production_method_Stop-Motion Animation',\n",
       " 'genre_0',\n",
       " 'genre_Action',\n",
       " 'genre_Adventure',\n",
       " 'genre_Black Comedy',\n",
       " 'genre_Comedy',\n",
       " 'genre_Concert/Performance',\n",
       " 'genre_Documentary',\n",
       " 'genre_Drama',\n",
       " 'genre_Horror',\n",
       " 'genre_Musical',\n",
       " 'genre_Romantic Comedy',\n",
       " 'genre_Thriller/Suspense',\n",
       " 'genre_Western']"
      ]
     },
     "execution_count": 13,
     "metadata": {},
     "output_type": "execute_result"
    }
   ],
   "source": [
    "#Replace top in next cell with x_names to run it with all features\n",
    "\n",
    "x_names = list(movie_final.columns.values)\n",
    "x_names.remove('domestic_box_office')\n",
    "x_names.remove('international_box_office')\n",
    "x_names.remove('id')\n",
    "# x_names.remove('350k_Movies.revenue')\n",
    "x_names.remove('Success_Failure_Domestic')\n",
    "x_names.remove('Success_Failure_All')\n",
    "x_names"
   ]
  },
  {
   "cell_type": "code",
   "execution_count": 6,
   "metadata": {
    "collapsed": true
   },
   "outputs": [],
   "source": [
    "#logistic regression copy/paste\n",
    "X = movie_final[x_names]\n",
    "y = movie_final[\"Success_Failure_Domestic\"]"
   ]
  },
  {
   "cell_type": "code",
   "execution_count": 7,
   "metadata": {
    "collapsed": true
   },
   "outputs": [],
   "source": [
    "X_train, X_test, y_train, y_test = train_test_split(X, y, random_state=1, stratify=y)"
   ]
  },
  {
   "cell_type": "code",
   "execution_count": 8,
   "metadata": {},
   "outputs": [
    {
     "data": {
      "text/plain": [
       "LogisticRegression(C=1.0, class_weight=None, dual=False, fit_intercept=True,\n",
       "          intercept_scaling=1, max_iter=100, multi_class='ovr', n_jobs=1,\n",
       "          penalty='l2', random_state=None, solver='liblinear', tol=0.0001,\n",
       "          verbose=0, warm_start=False)"
      ]
     },
     "execution_count": 8,
     "metadata": {},
     "output_type": "execute_result"
    }
   ],
   "source": [
    "from sklearn.linear_model import LogisticRegression\n",
    "classifier = LogisticRegression()\n",
    "classifier"
   ]
  },
  {
   "cell_type": "code",
   "execution_count": 9,
   "metadata": {
    "scrolled": false
   },
   "outputs": [
    {
     "data": {
      "text/plain": [
       "LogisticRegression(C=1.0, class_weight=None, dual=False, fit_intercept=True,\n",
       "          intercept_scaling=1, max_iter=100, multi_class='ovr', n_jobs=1,\n",
       "          penalty='l2', random_state=None, solver='liblinear', tol=0.0001,\n",
       "          verbose=0, warm_start=False)"
      ]
     },
     "execution_count": 9,
     "metadata": {},
     "output_type": "execute_result"
    }
   ],
   "source": [
    "classifier.fit(X_train, y_train)"
   ]
  },
  {
   "cell_type": "code",
   "execution_count": 10,
   "metadata": {},
   "outputs": [
    {
     "name": "stdout",
     "output_type": "stream",
     "text": [
      "Training Data Score: 0.8020446096654275\n",
      "Testing Data Score: 0.8022284122562674\n"
     ]
    }
   ],
   "source": [
    "print(f\"Training Data Score: {classifier.score(X_train, y_train)}\")\n",
    "print(f\"Testing Data Score: {classifier.score(X_test, y_test)}\")"
   ]
  }
 ],
 "metadata": {
  "kernelspec": {
   "display_name": "Python 3",
   "language": "python",
   "name": "python3"
  },
  "language_info": {
   "codemirror_mode": {
    "name": "ipython",
    "version": 3
   },
   "file_extension": ".py",
   "mimetype": "text/x-python",
   "name": "python",
   "nbconvert_exporter": "python",
   "pygments_lexer": "ipython3",
   "version": "3.6.2"
  }
 },
 "nbformat": 4,
 "nbformat_minor": 2
}
