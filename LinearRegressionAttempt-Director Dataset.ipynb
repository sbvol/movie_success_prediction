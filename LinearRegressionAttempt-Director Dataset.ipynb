{
 "cells": [
  {
   "cell_type": "code",
   "execution_count": 1,
   "metadata": {
    "collapsed": true
   },
   "outputs": [],
   "source": [
    "#Dependencies\n",
    "%matplotlib inline\n",
    "import matplotlib.pyplot as plt\n",
    "import numpy as np\n",
    "import pandas as pd \n",
    "from sklearn.preprocessing import StandardScaler\n",
    "from sklearn.model_selection import train_test_split\n",
    "from sklearn.linear_model import LinearRegression\n",
    "from sklearn.metrics import mean_squared_error"
   ]
  },
  {
   "cell_type": "code",
   "execution_count": 2,
   "metadata": {},
   "outputs": [
    {
     "data": {
      "text/html": [
       "<div>\n",
       "<style>\n",
       "    .dataframe thead tr:only-child th {\n",
       "        text-align: right;\n",
       "    }\n",
       "\n",
       "    .dataframe thead th {\n",
       "        text-align: left;\n",
       "    }\n",
       "\n",
       "    .dataframe tbody tr th {\n",
       "        vertical-align: top;\n",
       "    }\n",
       "</style>\n",
       "<table border=\"1\" class=\"dataframe\">\n",
       "  <thead>\n",
       "    <tr style=\"text-align: right;\">\n",
       "      <th></th>\n",
       "      <th>id</th>\n",
       "      <th>production_year</th>\n",
       "      <th>production_budget</th>\n",
       "      <th>domestic_box_office</th>\n",
       "      <th>international_box_office</th>\n",
       "      <th>rating</th>\n",
       "      <th>creative_type</th>\n",
       "      <th>source</th>\n",
       "      <th>production_method</th>\n",
       "      <th>genre</th>\n",
       "      <th>...</th>\n",
       "      <th>350k_Movies.actor3_name</th>\n",
       "      <th>350k_Movies.actor3_gender</th>\n",
       "      <th>350k_Movies.actor4_name</th>\n",
       "      <th>350k_Movies.actor4_gender</th>\n",
       "      <th>350k_Movies.actor5_name</th>\n",
       "      <th>350k_Movies.actor5_gender</th>\n",
       "      <th>350k_Movies.director_name</th>\n",
       "      <th>350k_Movies.producer_name</th>\n",
       "      <th>350k_Movies.screeplay_name</th>\n",
       "      <th>350k_Movies.editor_name</th>\n",
       "    </tr>\n",
       "  </thead>\n",
       "  <tbody>\n",
       "    <tr>\n",
       "      <th>0</th>\n",
       "      <td>0</td>\n",
       "      <td>2006</td>\n",
       "      <td>45000000</td>\n",
       "      <td>36895141</td>\n",
       "      <td>28700000</td>\n",
       "      <td>PG-13</td>\n",
       "      <td>Contemporary Fiction</td>\n",
       "      <td>Original Screenplay</td>\n",
       "      <td>Live Action</td>\n",
       "      <td>Action</td>\n",
       "      <td>...</td>\n",
       "      <td>David Morse</td>\n",
       "      <td>2</td>\n",
       "      <td>Jenna Stern</td>\n",
       "      <td>0</td>\n",
       "      <td>David Zayas</td>\n",
       "      <td>2</td>\n",
       "      <td>Richard Donner</td>\n",
       "      <td>Randall Emmett</td>\n",
       "      <td>Richard Wenk</td>\n",
       "      <td>Steve Mirkovich</td>\n",
       "    </tr>\n",
       "    <tr>\n",
       "      <th>1</th>\n",
       "      <td>1</td>\n",
       "      <td>2006</td>\n",
       "      <td>35000000</td>\n",
       "      <td>7459300</td>\n",
       "      <td>34604805</td>\n",
       "      <td>PG-13</td>\n",
       "      <td>Contemporary Fiction</td>\n",
       "      <td>Based on Fiction Book/Short Story</td>\n",
       "      <td>Live Action</td>\n",
       "      <td>Drama</td>\n",
       "      <td>...</td>\n",
       "      <td>Albert Finney</td>\n",
       "      <td>0</td>\n",
       "      <td>Tom Hollander</td>\n",
       "      <td>2</td>\n",
       "      <td>Abbie Cornish</td>\n",
       "      <td>1</td>\n",
       "      <td>Ridley Scott</td>\n",
       "      <td>Ridley Scott</td>\n",
       "      <td>none</td>\n",
       "      <td>Dody Dorn</td>\n",
       "    </tr>\n",
       "    <tr>\n",
       "      <th>2</th>\n",
       "      <td>2</td>\n",
       "      <td>2006</td>\n",
       "      <td>10000000</td>\n",
       "      <td>20342852</td>\n",
       "      <td>6373339</td>\n",
       "      <td>PG-13</td>\n",
       "      <td>Contemporary Fiction</td>\n",
       "      <td>Original Screenplay</td>\n",
       "      <td>Live Action</td>\n",
       "      <td>Comedy</td>\n",
       "      <td>...</td>\n",
       "      <td>Virginia Madsen</td>\n",
       "      <td>1</td>\n",
       "      <td>Woody Harrelson</td>\n",
       "      <td>2</td>\n",
       "      <td>Garrison Keillor</td>\n",
       "      <td>2</td>\n",
       "      <td>Robert Altman</td>\n",
       "      <td>Robert Altman</td>\n",
       "      <td>Garrison Keillor</td>\n",
       "      <td>Jacob Craycroft</td>\n",
       "    </tr>\n",
       "  </tbody>\n",
       "</table>\n",
       "<p>3 rows × 40 columns</p>\n",
       "</div>"
      ],
      "text/plain": [
       "   id  production_year  production_budget  domestic_box_office  \\\n",
       "0   0             2006           45000000             36895141   \n",
       "1   1             2006           35000000              7459300   \n",
       "2   2             2006           10000000             20342852   \n",
       "\n",
       "   international_box_office rating         creative_type  \\\n",
       "0                  28700000  PG-13  Contemporary Fiction   \n",
       "1                  34604805  PG-13  Contemporary Fiction   \n",
       "2                   6373339  PG-13  Contemporary Fiction   \n",
       "\n",
       "                              source production_method   genre  \\\n",
       "0                Original Screenplay       Live Action  Action   \n",
       "1  Based on Fiction Book/Short Story       Live Action   Drama   \n",
       "2                Original Screenplay       Live Action  Comedy   \n",
       "\n",
       "            ...            350k_Movies.actor3_name  350k_Movies.actor3_gender  \\\n",
       "0           ...                        David Morse                          2   \n",
       "1           ...                      Albert Finney                          0   \n",
       "2           ...                    Virginia Madsen                          1   \n",
       "\n",
       "  350k_Movies.actor4_name 350k_Movies.actor4_gender 350k_Movies.actor5_name  \\\n",
       "0             Jenna Stern                         0             David Zayas   \n",
       "1           Tom Hollander                         2           Abbie Cornish   \n",
       "2         Woody Harrelson                         2        Garrison Keillor   \n",
       "\n",
       "  350k_Movies.actor5_gender  350k_Movies.director_name  \\\n",
       "0                         2             Richard Donner   \n",
       "1                         1               Ridley Scott   \n",
       "2                         2              Robert Altman   \n",
       "\n",
       "  350k_Movies.producer_name 350k_Movies.screeplay_name 350k_Movies.editor_name  \n",
       "0            Randall Emmett               Richard Wenk         Steve Mirkovich  \n",
       "1              Ridley Scott                       none               Dody Dorn  \n",
       "2             Robert Altman           Garrison Keillor         Jacob Craycroft  \n",
       "\n",
       "[3 rows x 40 columns]"
      ]
     },
     "execution_count": 2,
     "metadata": {},
     "output_type": "execute_result"
    }
   ],
   "source": [
    "#assigming index id to movie_name and rearranging df so that it's the first column\n",
    "movie = pd.read_csv('Final_Data_Template.csv',encoding='latin-1')\n",
    "movie['id'] = movie.index\n",
    "movie = movie[['id'] + movie.columns[:-1].tolist()]\n",
    "movie_final = movie.drop(['movie_name'], axis=1)\n",
    "movie_final.head(3)"
   ]
  },
  {
   "cell_type": "code",
   "execution_count": 3,
   "metadata": {},
   "outputs": [
    {
     "data": {
      "text/html": [
       "<div>\n",
       "<style>\n",
       "    .dataframe thead tr:only-child th {\n",
       "        text-align: right;\n",
       "    }\n",
       "\n",
       "    .dataframe thead th {\n",
       "        text-align: left;\n",
       "    }\n",
       "\n",
       "    .dataframe tbody tr th {\n",
       "        vertical-align: top;\n",
       "    }\n",
       "</style>\n",
       "<table border=\"1\" class=\"dataframe\">\n",
       "  <thead>\n",
       "    <tr style=\"text-align: right;\">\n",
       "      <th></th>\n",
       "      <th>id</th>\n",
       "      <th>production_year</th>\n",
       "      <th>production_budget</th>\n",
       "      <th>domestic_box_office</th>\n",
       "      <th>international_box_office</th>\n",
       "      <th>sequel</th>\n",
       "      <th>running_time</th>\n",
       "      <th>350k_Movies.popularity</th>\n",
       "      <th>350k_Movies.revenue</th>\n",
       "      <th>350k_Movies.runtime</th>\n",
       "      <th>...</th>\n",
       "      <th>350k_Movies.editor_name_William Steinkamp</th>\n",
       "      <th>350k_Movies.editor_name_William Yeh</th>\n",
       "      <th>350k_Movies.editor_name_Wyatt Jones</th>\n",
       "      <th>350k_Movies.editor_name_Wyatt Smith</th>\n",
       "      <th>350k_Movies.editor_name_Yann HervÃ©</th>\n",
       "      <th>350k_Movies.editor_name_Yves Langlois</th>\n",
       "      <th>350k_Movies.editor_name_Zach Staenberg</th>\n",
       "      <th>350k_Movies.editor_name_Zachary Stuart-Pontier</th>\n",
       "      <th>350k_Movies.editor_name_Zene Baker</th>\n",
       "      <th>350k_Movies.editor_name_none</th>\n",
       "    </tr>\n",
       "  </thead>\n",
       "  <tbody>\n",
       "    <tr>\n",
       "      <th>0</th>\n",
       "      <td>0</td>\n",
       "      <td>2006</td>\n",
       "      <td>45000000</td>\n",
       "      <td>36895141</td>\n",
       "      <td>28700000</td>\n",
       "      <td>0</td>\n",
       "      <td>105</td>\n",
       "      <td>2.815345</td>\n",
       "      <td>65664721</td>\n",
       "      <td>105</td>\n",
       "      <td>...</td>\n",
       "      <td>0</td>\n",
       "      <td>0</td>\n",
       "      <td>0</td>\n",
       "      <td>0</td>\n",
       "      <td>0</td>\n",
       "      <td>0</td>\n",
       "      <td>0</td>\n",
       "      <td>0</td>\n",
       "      <td>0</td>\n",
       "      <td>0</td>\n",
       "    </tr>\n",
       "    <tr>\n",
       "      <th>1</th>\n",
       "      <td>1</td>\n",
       "      <td>2006</td>\n",
       "      <td>35000000</td>\n",
       "      <td>7459300</td>\n",
       "      <td>34604805</td>\n",
       "      <td>0</td>\n",
       "      <td>118</td>\n",
       "      <td>0.915594</td>\n",
       "      <td>42064105</td>\n",
       "      <td>118</td>\n",
       "      <td>...</td>\n",
       "      <td>0</td>\n",
       "      <td>0</td>\n",
       "      <td>0</td>\n",
       "      <td>0</td>\n",
       "      <td>0</td>\n",
       "      <td>0</td>\n",
       "      <td>0</td>\n",
       "      <td>0</td>\n",
       "      <td>0</td>\n",
       "      <td>0</td>\n",
       "    </tr>\n",
       "    <tr>\n",
       "      <th>2</th>\n",
       "      <td>2</td>\n",
       "      <td>2006</td>\n",
       "      <td>10000000</td>\n",
       "      <td>20342852</td>\n",
       "      <td>6373339</td>\n",
       "      <td>0</td>\n",
       "      <td>105</td>\n",
       "      <td>1.272709</td>\n",
       "      <td>0</td>\n",
       "      <td>105</td>\n",
       "      <td>...</td>\n",
       "      <td>0</td>\n",
       "      <td>0</td>\n",
       "      <td>0</td>\n",
       "      <td>0</td>\n",
       "      <td>0</td>\n",
       "      <td>0</td>\n",
       "      <td>0</td>\n",
       "      <td>0</td>\n",
       "      <td>0</td>\n",
       "      <td>0</td>\n",
       "    </tr>\n",
       "  </tbody>\n",
       "</table>\n",
       "<p>3 rows × 14169 columns</p>\n",
       "</div>"
      ],
      "text/plain": [
       "   id  production_year  production_budget  domestic_box_office  \\\n",
       "0   0             2006           45000000             36895141   \n",
       "1   1             2006           35000000              7459300   \n",
       "2   2             2006           10000000             20342852   \n",
       "\n",
       "   international_box_office  sequel  running_time  350k_Movies.popularity  \\\n",
       "0                  28700000       0           105                2.815345   \n",
       "1                  34604805       0           118                0.915594   \n",
       "2                   6373339       0           105                1.272709   \n",
       "\n",
       "   350k_Movies.revenue  350k_Movies.runtime              ...               \\\n",
       "0             65664721                  105              ...                \n",
       "1             42064105                  118              ...                \n",
       "2                    0                  105              ...                \n",
       "\n",
       "   350k_Movies.editor_name_William Steinkamp  \\\n",
       "0                                          0   \n",
       "1                                          0   \n",
       "2                                          0   \n",
       "\n",
       "   350k_Movies.editor_name_William Yeh  350k_Movies.editor_name_Wyatt Jones  \\\n",
       "0                                    0                                    0   \n",
       "1                                    0                                    0   \n",
       "2                                    0                                    0   \n",
       "\n",
       "   350k_Movies.editor_name_Wyatt Smith  350k_Movies.editor_name_Yann HervÃ©  \\\n",
       "0                                    0                                    0   \n",
       "1                                    0                                    0   \n",
       "2                                    0                                    0   \n",
       "\n",
       "   350k_Movies.editor_name_Yves Langlois  \\\n",
       "0                                      0   \n",
       "1                                      0   \n",
       "2                                      0   \n",
       "\n",
       "   350k_Movies.editor_name_Zach Staenberg  \\\n",
       "0                                       0   \n",
       "1                                       0   \n",
       "2                                       0   \n",
       "\n",
       "   350k_Movies.editor_name_Zachary Stuart-Pontier  \\\n",
       "0                                               0   \n",
       "1                                               0   \n",
       "2                                               0   \n",
       "\n",
       "   350k_Movies.editor_name_Zene Baker  350k_Movies.editor_name_none  \n",
       "0                                   0                             0  \n",
       "1                                   0                             0  \n",
       "2                                   0                             0  \n",
       "\n",
       "[3 rows x 14169 columns]"
      ]
     },
     "execution_count": 3,
     "metadata": {},
     "output_type": "execute_result"
    }
   ],
   "source": [
    "#Got dummies - 14169 columns...\n",
    "movie_final = pd.get_dummies(movie_final)\n",
    "movie_final.head(3)"
   ]
  },
  {
   "cell_type": "code",
   "execution_count": 4,
   "metadata": {},
   "outputs": [
    {
     "data": {
      "text/html": [
       "<div>\n",
       "<style>\n",
       "    .dataframe thead tr:only-child th {\n",
       "        text-align: right;\n",
       "    }\n",
       "\n",
       "    .dataframe thead th {\n",
       "        text-align: left;\n",
       "    }\n",
       "\n",
       "    .dataframe tbody tr th {\n",
       "        vertical-align: top;\n",
       "    }\n",
       "</style>\n",
       "<table border=\"1\" class=\"dataframe\">\n",
       "  <thead>\n",
       "    <tr style=\"text-align: right;\">\n",
       "      <th></th>\n",
       "      <th>name</th>\n",
       "      <th>correlation</th>\n",
       "    </tr>\n",
       "  </thead>\n",
       "  <tbody>\n",
       "    <tr>\n",
       "      <th>3</th>\n",
       "      <td>domestic_box_office</td>\n",
       "      <td>1.000000</td>\n",
       "    </tr>\n",
       "    <tr>\n",
       "      <th>4</th>\n",
       "      <td>international_box_office</td>\n",
       "      <td>0.855784</td>\n",
       "    </tr>\n",
       "    <tr>\n",
       "      <th>8</th>\n",
       "      <td>350k_Movies.revenue</td>\n",
       "      <td>0.809459</td>\n",
       "    </tr>\n",
       "    <tr>\n",
       "      <th>2</th>\n",
       "      <td>production_budget</td>\n",
       "      <td>0.697835</td>\n",
       "    </tr>\n",
       "    <tr>\n",
       "      <th>11</th>\n",
       "      <td>350k_Movies.vote_count</td>\n",
       "      <td>0.667864</td>\n",
       "    </tr>\n",
       "    <tr>\n",
       "      <th>32</th>\n",
       "      <td>creative_type_Super Hero</td>\n",
       "      <td>0.371415</td>\n",
       "    </tr>\n",
       "    <tr>\n",
       "      <th>7</th>\n",
       "      <td>350k_Movies.popularity</td>\n",
       "      <td>0.365976</td>\n",
       "    </tr>\n",
       "    <tr>\n",
       "      <th>5</th>\n",
       "      <td>sequel</td>\n",
       "      <td>0.359444</td>\n",
       "    </tr>\n",
       "    <tr>\n",
       "      <th>54</th>\n",
       "      <td>production_method_Animation/Live Action</td>\n",
       "      <td>0.310557</td>\n",
       "    </tr>\n",
       "    <tr>\n",
       "      <th>63</th>\n",
       "      <td>genre_Adventure</td>\n",
       "      <td>0.288353</td>\n",
       "    </tr>\n",
       "  </tbody>\n",
       "</table>\n",
       "</div>"
      ],
      "text/plain": [
       "                                       name  correlation\n",
       "3                       domestic_box_office     1.000000\n",
       "4                  international_box_office     0.855784\n",
       "8                       350k_Movies.revenue     0.809459\n",
       "2                         production_budget     0.697835\n",
       "11                   350k_Movies.vote_count     0.667864\n",
       "32                 creative_type_Super Hero     0.371415\n",
       "7                    350k_Movies.popularity     0.365976\n",
       "5                                    sequel     0.359444\n",
       "54  production_method_Animation/Live Action     0.310557\n",
       "63                          genre_Adventure     0.288353"
      ]
     },
     "execution_count": 4,
     "metadata": {},
     "output_type": "execute_result"
    }
   ],
   "source": [
    "#created dataframe with correlations for all columns \n",
    "name = []\n",
    "correlation = []\n",
    "for movie in movie_final:\n",
    "    name.append(movie)\n",
    "    correlation.append(movie_final['domestic_box_office'].corr(movie_final[movie]))\n",
    "correlation_df = pd.DataFrame({'name': name, 'correlation': correlation})[['name','correlation']]\n",
    "positive_df = correlation_df.sort_values(by=['correlation'], ascending=False)\n",
    "positive_df.head(10)"
   ]
  },
  {
   "cell_type": "code",
   "execution_count": 5,
   "metadata": {},
   "outputs": [
    {
     "data": {
      "text/plain": [
       "['production_budget',\n",
       " '350k_Movies.vote_count',\n",
       " 'creative_type_Super Hero',\n",
       " '350k_Movies.popularity',\n",
       " 'sequel']"
      ]
     },
     "execution_count": 5,
     "metadata": {},
     "output_type": "execute_result"
    }
   ],
   "source": [
    "#making a list based off the top correlated columns to feed into regression\n",
    "top = positive_df['name'].values.tolist()[:50]\n",
    "top.remove('domestic_box_office')\n",
    "top.remove('international_box_office')\n",
    "top.remove('350k_Movies.revenue')\n",
    "top[:5]"
   ]
  },
  {
   "cell_type": "code",
   "execution_count": 6,
   "metadata": {},
   "outputs": [
    {
     "name": "stdout",
     "output_type": "stream",
     "text": [
      "(1435, 47) (1435, 1)\n"
     ]
    }
   ],
   "source": [
    "#Copy Paste Scikit Learn Regression from here on..reshaped data\n",
    "X = movie_final[top]\n",
    "y = movie_final[\"domestic_box_office\"].values.reshape(-1, 1)\n",
    "print(X.shape, y.shape)"
   ]
  },
  {
   "cell_type": "code",
   "execution_count": 7,
   "metadata": {},
   "outputs": [
    {
     "name": "stderr",
     "output_type": "stream",
     "text": [
      "C:\\Users\\ahmed_oz98996\\Anaconda3\\lib\\site-packages\\sklearn\\utils\\validation.py:444: DataConversionWarning: Data with input dtype int64 was converted to float64 by StandardScaler.\n",
      "  warnings.warn(msg, DataConversionWarning)\n"
     ]
    }
   ],
   "source": [
    "X_train, X_test, y_train, y_test = train_test_split(X, y, random_state=42)\n",
    "X_scaler = StandardScaler().fit(X_train)\n",
    "y_scaler = StandardScaler().fit(y_train)\n",
    "X_train_scaled = X_scaler.transform(X_train)\n",
    "X_test_scaled = X_scaler.transform(X_test)\n",
    "y_train_scaled = y_scaler.transform(y_train)\n",
    "y_test_scaled = y_scaler.transform(y_test)"
   ]
  },
  {
   "cell_type": "code",
   "execution_count": 8,
   "metadata": {},
   "outputs": [
    {
     "data": {
      "image/png": "[encoded data removed]",
      "text/plain": [
       "<matplotlib.figure.Figure at 0x2e404ad7ef0>"
      ]
     },
     "metadata": {},
     "output_type": "display_data"
    }
   ],
   "source": [
    "#scaled data code\n",
    "model = LinearRegression()\n",
    "model.fit(X_train_scaled, y_train_scaled)\n",
    "LinearRegression(copy_X=True, fit_intercept=True, n_jobs=1, normalize=False)\n",
    "predictions = model.predict(X_test_scaled)\n",
    "model.fit(X_train_scaled, y_train_scaled)\n",
    "plt.scatter(model.predict(X_train_scaled), model.predict(X_train_scaled) - y_train_scaled, c=\"blue\", label=\"Training Data\")\n",
    "plt.scatter(model.predict(X_test_scaled), model.predict(X_test_scaled) - y_test_scaled, c=\"orange\", label=\"Testing Data\")\n",
    "plt.legend()\n",
    "plt.hlines(y=0, xmin=y_test_scaled.min(), xmax=y_test_scaled.max())\n",
    "plt.title(\"Residual Plot\")\n",
    "plt.show()"
   ]
  },
  {
   "cell_type": "code",
   "execution_count": 9,
   "metadata": {},
   "outputs": [
    {
     "name": "stdout",
     "output_type": "stream",
     "text": [
      "MSE: 0.4263529285625431, R2: 0.6345895783618591\n"
     ]
    }
   ],
   "source": [
    "MSE = mean_squared_error(y_test_scaled, predictions)\n",
    "r2 = model.score(X_test_scaled, y_test_scaled)\n",
    "\n",
    "print(f\"MSE: {MSE}, R2: {r2}\")"
   ]
  },
  {
   "cell_type": "code",
   "execution_count": 10,
   "metadata": {},
   "outputs": [
    {
     "name": "stdout",
     "output_type": "stream",
     "text": [
      "R2: 0.7220248129216387\n"
     ]
    }
   ],
   "source": [
    "r2 = model.score(X_train_scaled, y_train_scaled)\n",
    "\n",
    "print(f\"R2: {r2}\")"
   ]
  },
  {
   "cell_type": "code",
   "execution_count": 11,
   "metadata": {},
   "outputs": [
    {
     "data": {
      "image/png": "[encoded data removed]",
      "text/plain": [
       "<matplotlib.figure.Figure at 0x2e404ad76a0>"
      ]
     },
     "metadata": {},
     "output_type": "display_data"
    }
   ],
   "source": [
    "#not scaled data code\n",
    "model = LinearRegression()\n",
    "model.fit(X_train, y_train)\n",
    "LinearRegression(copy_X=True, fit_intercept=True, n_jobs=1, normalize=False)\n",
    "predictions = model.predict(X_test)\n",
    "model.fit(X_train, y_train)\n",
    "plt.scatter(model.predict(X_train), model.predict(X_train) - y_train, c=\"blue\", label=\"Training Data\")\n",
    "plt.scatter(model.predict(X_test), model.predict(X_test) - y_test, c=\"orange\", label=\"Testing Data\")\n",
    "plt.legend()\n",
    "plt.hlines(y=0, xmin=y_test_scaled.min(), xmax=y_test_scaled.max())\n",
    "plt.title(\"Residual Plot\")\n",
    "plt.show()"
   ]
  },
  {
   "cell_type": "code",
   "execution_count": 12,
   "metadata": {},
   "outputs": [
    {
     "name": "stdout",
     "output_type": "stream",
     "text": [
      "MSE: 2912272415867098.0, R2: 0.6346292238901534\n"
     ]
    }
   ],
   "source": [
    "MSE = mean_squared_error(y_test, predictions)\n",
    "r2 = model.score(X_test, y_test)\n",
    "print(f\"MSE: {MSE}, R2: {r2}\")"
   ]
  },
  {
   "cell_type": "code",
   "execution_count": 13,
   "metadata": {},
   "outputs": [
    {
     "name": "stdout",
     "output_type": "stream",
     "text": [
      "R2: 0.7220359115242657\n"
     ]
    }
   ],
   "source": [
    "r2 = model.score(X_train, y_train)\n",
    "\n",
    "print(f\"R2: {r2}\")"
   ]
  },
  {
   "cell_type": "code",
   "execution_count": 14,
   "metadata": {
    "collapsed": true
   },
   "outputs": [],
   "source": [
    "#EXTRA UNUSED CODE\n",
    "\n",
    "# #correlations for all numeric columns - might help see which columns we end up using in regression model\n",
    "# movie_int = movie_final.select_dtypes(include=['int64'])\n",
    "# for movie in movie_int:\n",
    "#     print((movie) + \"  \"+(str(movie_final['domestic_box_office'].corr(movie_final[movie]))))\n",
    "\n",
    "# #correlations for a couple of the missed columns \n",
    "# movie_float = movie_final.select_dtypes(include=['float64'])\n",
    "# for movie in movie_float:\n",
    "#     print((movie) + \"  \"+(str(movie_final['domestic_box_office'].corr(movie_final[movie]))))\n",
    "\n",
    "# #correlations for all categorical columns\n",
    "# movie_strings = movie_final.select_dtypes(include=['object']).head(1)\n",
    "# list(movie_strings.columns.values)\n",
    "\n",
    "# movie_final.rating = pd.Categorical(movie_final.rating).codes\n",
    "# movie_final.creative_type = pd.Categorical(movie_final.creative_type).codes\n",
    "# movie_final.source = pd.Categorical(movie_final.source).codes\n",
    "# movie_final.production_method = pd.Categorical(movie_final.production_method).codes\n",
    "# movie_final.genre = pd.Categorical(movie_final.genre).codes\n",
    "\n",
    "# #Assigned column names to list to so that inputting column names is more dynamic(see next cell)\n",
    "# x_names = list(movie_final.columns.values)\n",
    "# x_names.remove('domestic_box_office')\n",
    "# x_names.remove('international_box_office')\n",
    "# x_names.remove('id')\n",
    "# x_names.remove('350k_Movies.revenue')\n",
    "# x_names"
   ]
  }
 ],
 "metadata": {
  "kernelspec": {
   "display_name": "Python 3",
   "language": "python",
   "name": "python3"
  },
  "language_info": {
   "codemirror_mode": {
    "name": "ipython",
    "version": 3
   },
   "file_extension": ".py",
   "mimetype": "text/x-python",
   "name": "python",
   "nbconvert_exporter": "python",
   "pygments_lexer": "ipython3",
   "version": "3.6.2"
  }
 },
 "nbformat": 4,
 "nbformat_minor": 2
}
